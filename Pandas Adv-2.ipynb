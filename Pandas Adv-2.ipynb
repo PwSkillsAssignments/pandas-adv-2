{
 "cells": [
  {
   "cell_type": "code",
   "execution_count": 1,
   "id": "f7d60df8",
   "metadata": {},
   "outputs": [],
   "source": [
    "import pandas as pd"
   ]
  },
  {
   "cell_type": "code",
   "execution_count": 4,
   "id": "cc41b5dd",
   "metadata": {},
   "outputs": [],
   "source": [
    "course_name = [\"Data Science\", \"Machine Learning\", \"Big Data\", \"Data Engineer\"]\n",
    "duration = [2,3,6,4]\n",
    "df = pd.DataFrame(data = {\"course_name\" : course_name, \"duration\" : duration})"
   ]
  },
  {
   "cell_type": "code",
   "execution_count": 5,
   "id": "47f8e6bf",
   "metadata": {},
   "outputs": [
    {
     "data": {
      "text/html": [
       "<div>\n",
       "<style scoped>\n",
       "    .dataframe tbody tr th:only-of-type {\n",
       "        vertical-align: middle;\n",
       "    }\n",
       "\n",
       "    .dataframe tbody tr th {\n",
       "        vertical-align: top;\n",
       "    }\n",
       "\n",
       "    .dataframe thead th {\n",
       "        text-align: right;\n",
       "    }\n",
       "</style>\n",
       "<table border=\"1\" class=\"dataframe\">\n",
       "  <thead>\n",
       "    <tr style=\"text-align: right;\">\n",
       "      <th></th>\n",
       "      <th>course_name</th>\n",
       "      <th>duration</th>\n",
       "    </tr>\n",
       "  </thead>\n",
       "  <tbody>\n",
       "    <tr>\n",
       "      <th>0</th>\n",
       "      <td>Data Science</td>\n",
       "      <td>2</td>\n",
       "    </tr>\n",
       "    <tr>\n",
       "      <th>1</th>\n",
       "      <td>Machine Learning</td>\n",
       "      <td>3</td>\n",
       "    </tr>\n",
       "    <tr>\n",
       "      <th>2</th>\n",
       "      <td>Big Data</td>\n",
       "      <td>6</td>\n",
       "    </tr>\n",
       "    <tr>\n",
       "      <th>3</th>\n",
       "      <td>Data Engineer</td>\n",
       "      <td>4</td>\n",
       "    </tr>\n",
       "  </tbody>\n",
       "</table>\n",
       "</div>"
      ],
      "text/plain": [
       "        course_name  duration\n",
       "0      Data Science         2\n",
       "1  Machine Learning         3\n",
       "2          Big Data         6\n",
       "3     Data Engineer         4"
      ]
     },
     "execution_count": 5,
     "metadata": {},
     "output_type": "execute_result"
    }
   ],
   "source": [
    "df"
   ]
  },
  {
   "cell_type": "markdown",
   "id": "dc4e748b",
   "metadata": {},
   "source": [
    "# Q1. Write a code to print the data present in the second row of the dataframe, df."
   ]
  },
  {
   "cell_type": "code",
   "execution_count": 9,
   "id": "1ecb86b1",
   "metadata": {},
   "outputs": [
    {
     "data": {
      "text/plain": [
       "course_name    Machine Learning\n",
       "duration                      3\n",
       "Name: 1, dtype: object"
      ]
     },
     "execution_count": 9,
     "metadata": {},
     "output_type": "execute_result"
    }
   ],
   "source": [
    "df.iloc[1]"
   ]
  },
  {
   "cell_type": "markdown",
   "id": "a7fc47d1",
   "metadata": {},
   "source": [
    "# Q2. What is the difference between the functions loc and iloc in pandas.DataFrame?"
   ]
  },
  {
   "cell_type": "markdown",
   "id": "4c57ce6b",
   "metadata": {},
   "source": [
    "##### loc is the labelled based indexing and iloc is the interger/index based indexing"
   ]
  },
  {
   "cell_type": "markdown",
   "id": "4722544c",
   "metadata": {},
   "source": [
    "# Q3. Reindex the given dataframe using a variable, reindex = [3,0,1,2] and store it in the variable, new_df\n",
    "# then find the output for both new_df.loc[2] and new_df.iloc[2]."
   ]
  },
  {
   "cell_type": "code",
   "execution_count": 12,
   "id": "378f0463",
   "metadata": {},
   "outputs": [
    {
     "data": {
      "text/html": [
       "<div>\n",
       "<style scoped>\n",
       "    .dataframe tbody tr th:only-of-type {\n",
       "        vertical-align: middle;\n",
       "    }\n",
       "\n",
       "    .dataframe tbody tr th {\n",
       "        vertical-align: top;\n",
       "    }\n",
       "\n",
       "    .dataframe thead th {\n",
       "        text-align: right;\n",
       "    }\n",
       "</style>\n",
       "<table border=\"1\" class=\"dataframe\">\n",
       "  <thead>\n",
       "    <tr style=\"text-align: right;\">\n",
       "      <th></th>\n",
       "      <th>course_name</th>\n",
       "      <th>duration</th>\n",
       "    </tr>\n",
       "  </thead>\n",
       "  <tbody>\n",
       "    <tr>\n",
       "      <th>3</th>\n",
       "      <td>Data Engineer</td>\n",
       "      <td>4</td>\n",
       "    </tr>\n",
       "    <tr>\n",
       "      <th>0</th>\n",
       "      <td>Data Science</td>\n",
       "      <td>2</td>\n",
       "    </tr>\n",
       "    <tr>\n",
       "      <th>1</th>\n",
       "      <td>Machine Learning</td>\n",
       "      <td>3</td>\n",
       "    </tr>\n",
       "    <tr>\n",
       "      <th>2</th>\n",
       "      <td>Big Data</td>\n",
       "      <td>6</td>\n",
       "    </tr>\n",
       "  </tbody>\n",
       "</table>\n",
       "</div>"
      ],
      "text/plain": [
       "        course_name  duration\n",
       "3     Data Engineer         4\n",
       "0      Data Science         2\n",
       "1  Machine Learning         3\n",
       "2          Big Data         6"
      ]
     },
     "execution_count": 12,
     "metadata": {},
     "output_type": "execute_result"
    }
   ],
   "source": [
    "reindex = [3,0,1,2]\n",
    "new_df = df.reindex(reindex)\n",
    "new_df"
   ]
  },
  {
   "cell_type": "code",
   "execution_count": 13,
   "id": "6e92b5e3",
   "metadata": {},
   "outputs": [
    {
     "data": {
      "text/plain": [
       "course_name    Big Data\n",
       "duration              6\n",
       "Name: 2, dtype: object"
      ]
     },
     "execution_count": 13,
     "metadata": {},
     "output_type": "execute_result"
    }
   ],
   "source": [
    "new_df.loc[2] "
   ]
  },
  {
   "cell_type": "code",
   "execution_count": 14,
   "id": "e57e4b73",
   "metadata": {},
   "outputs": [
    {
     "data": {
      "text/plain": [
       "course_name    Machine Learning\n",
       "duration                      3\n",
       "Name: 1, dtype: object"
      ]
     },
     "execution_count": 14,
     "metadata": {},
     "output_type": "execute_result"
    }
   ],
   "source": [
    "new_df.iloc[2]"
   ]
  },
  {
   "cell_type": "markdown",
   "id": "d138dd11",
   "metadata": {},
   "source": [
    "##### Ans: iloc dont lose their original indexing number thats the reason the iloc gives the result as it was defined."
   ]
  },
  {
   "cell_type": "code",
   "execution_count": 15,
   "id": "80c0897d",
   "metadata": {},
   "outputs": [],
   "source": [
    "import pandas as pd\n",
    "import numpy as np\n",
    "columns = ['column_1', 'column_2', 'column_3', 'column_4', 'column_5', 'column_6']\n",
    "indices = [1,2,3,4,5,6]\n",
    "#Creating a dataframe:\n",
    "df1 = pd.DataFrame(np.random.rand(6,6), columns = columns, index = indices)"
   ]
  },
  {
   "cell_type": "code",
   "execution_count": 16,
   "id": "c008d452",
   "metadata": {},
   "outputs": [
    {
     "data": {
      "text/html": [
       "<div>\n",
       "<style scoped>\n",
       "    .dataframe tbody tr th:only-of-type {\n",
       "        vertical-align: middle;\n",
       "    }\n",
       "\n",
       "    .dataframe tbody tr th {\n",
       "        vertical-align: top;\n",
       "    }\n",
       "\n",
       "    .dataframe thead th {\n",
       "        text-align: right;\n",
       "    }\n",
       "</style>\n",
       "<table border=\"1\" class=\"dataframe\">\n",
       "  <thead>\n",
       "    <tr style=\"text-align: right;\">\n",
       "      <th></th>\n",
       "      <th>column_1</th>\n",
       "      <th>column_2</th>\n",
       "      <th>column_3</th>\n",
       "      <th>column_4</th>\n",
       "      <th>column_5</th>\n",
       "      <th>column_6</th>\n",
       "    </tr>\n",
       "  </thead>\n",
       "  <tbody>\n",
       "    <tr>\n",
       "      <th>1</th>\n",
       "      <td>0.412197</td>\n",
       "      <td>0.691862</td>\n",
       "      <td>0.253190</td>\n",
       "      <td>0.680369</td>\n",
       "      <td>0.126231</td>\n",
       "      <td>0.544243</td>\n",
       "    </tr>\n",
       "    <tr>\n",
       "      <th>2</th>\n",
       "      <td>0.475919</td>\n",
       "      <td>0.431620</td>\n",
       "      <td>0.160167</td>\n",
       "      <td>0.873217</td>\n",
       "      <td>0.384854</td>\n",
       "      <td>0.272430</td>\n",
       "    </tr>\n",
       "    <tr>\n",
       "      <th>3</th>\n",
       "      <td>0.585200</td>\n",
       "      <td>0.219030</td>\n",
       "      <td>0.691520</td>\n",
       "      <td>0.903629</td>\n",
       "      <td>0.001730</td>\n",
       "      <td>0.230211</td>\n",
       "    </tr>\n",
       "    <tr>\n",
       "      <th>4</th>\n",
       "      <td>0.135178</td>\n",
       "      <td>0.298058</td>\n",
       "      <td>0.572222</td>\n",
       "      <td>0.520748</td>\n",
       "      <td>0.825947</td>\n",
       "      <td>0.844736</td>\n",
       "    </tr>\n",
       "    <tr>\n",
       "      <th>5</th>\n",
       "      <td>0.311600</td>\n",
       "      <td>0.505057</td>\n",
       "      <td>0.476488</td>\n",
       "      <td>0.795138</td>\n",
       "      <td>0.439015</td>\n",
       "      <td>0.389122</td>\n",
       "    </tr>\n",
       "    <tr>\n",
       "      <th>6</th>\n",
       "      <td>0.481833</td>\n",
       "      <td>0.534781</td>\n",
       "      <td>0.667742</td>\n",
       "      <td>0.191213</td>\n",
       "      <td>0.677747</td>\n",
       "      <td>0.515994</td>\n",
       "    </tr>\n",
       "  </tbody>\n",
       "</table>\n",
       "</div>"
      ],
      "text/plain": [
       "   column_1  column_2  column_3  column_4  column_5  column_6\n",
       "1  0.412197  0.691862  0.253190  0.680369  0.126231  0.544243\n",
       "2  0.475919  0.431620  0.160167  0.873217  0.384854  0.272430\n",
       "3  0.585200  0.219030  0.691520  0.903629  0.001730  0.230211\n",
       "4  0.135178  0.298058  0.572222  0.520748  0.825947  0.844736\n",
       "5  0.311600  0.505057  0.476488  0.795138  0.439015  0.389122\n",
       "6  0.481833  0.534781  0.667742  0.191213  0.677747  0.515994"
      ]
     },
     "execution_count": 16,
     "metadata": {},
     "output_type": "execute_result"
    }
   ],
   "source": [
    "df1"
   ]
  },
  {
   "cell_type": "markdown",
   "id": "92a1bd59",
   "metadata": {},
   "source": [
    "# Q4. Write a code to find the following statistical measurements for the above dataframe df1:\n",
    "# (i) mean of each and every column present in the dataframe.\n",
    "# (ii) standard deviation of column, ‘column_2’"
   ]
  },
  {
   "cell_type": "code",
   "execution_count": 30,
   "id": "10513f29",
   "metadata": {},
   "outputs": [
    {
     "data": {
      "text/plain": [
       "column_1    0.400321\n",
       "column_2    0.446735\n",
       "column_3    0.470221\n",
       "column_4    0.660719\n",
       "column_5    0.409254\n",
       "column_6    0.466123\n",
       "dtype: float64"
      ]
     },
     "execution_count": 30,
     "metadata": {},
     "output_type": "execute_result"
    }
   ],
   "source": [
    "df1.mean()"
   ]
  },
  {
   "cell_type": "code",
   "execution_count": 31,
   "id": "bddea885",
   "metadata": {},
   "outputs": [
    {
     "data": {
      "text/plain": [
       "column_1    0.158021\n",
       "column_2    0.170543\n",
       "column_3    0.219849\n",
       "column_4    0.269311\n",
       "column_5    0.314127\n",
       "column_6    0.224071\n",
       "dtype: float64"
      ]
     },
     "execution_count": 31,
     "metadata": {},
     "output_type": "execute_result"
    }
   ],
   "source": [
    "df1.std()"
   ]
  },
  {
   "cell_type": "code",
   "execution_count": 29,
   "id": "26b5971e",
   "metadata": {},
   "outputs": [
    {
     "data": {
      "text/plain": [
       "0.466122570004506"
      ]
     },
     "execution_count": 29,
     "metadata": {},
     "output_type": "execute_result"
    }
   ],
   "source": [
    "dddf1['column_6'].mean()"
   ]
  },
  {
   "cell_type": "markdown",
   "id": "214d8b9d",
   "metadata": {},
   "source": [
    "# Q5. Replace the data present in the second row of column, ‘column_2’ by a string variable then find the\n",
    "# mean of column, column_2.\n",
    "# If you are getting errors in executing it then explain why.\n",
    "# [Hint: To replace the data use df1.loc[] and equate this to string data of your choice.]"
   ]
  },
  {
   "cell_type": "code",
   "execution_count": 36,
   "id": "e126feb3",
   "metadata": {},
   "outputs": [
    {
     "data": {
      "text/html": [
       "<div>\n",
       "<style scoped>\n",
       "    .dataframe tbody tr th:only-of-type {\n",
       "        vertical-align: middle;\n",
       "    }\n",
       "\n",
       "    .dataframe tbody tr th {\n",
       "        vertical-align: top;\n",
       "    }\n",
       "\n",
       "    .dataframe thead th {\n",
       "        text-align: right;\n",
       "    }\n",
       "</style>\n",
       "<table border=\"1\" class=\"dataframe\">\n",
       "  <thead>\n",
       "    <tr style=\"text-align: right;\">\n",
       "      <th></th>\n",
       "      <th>column_1</th>\n",
       "      <th>column_2</th>\n",
       "      <th>column_3</th>\n",
       "      <th>column_4</th>\n",
       "      <th>column_5</th>\n",
       "      <th>column_6</th>\n",
       "    </tr>\n",
       "  </thead>\n",
       "  <tbody>\n",
       "    <tr>\n",
       "      <th>1</th>\n",
       "      <td>0.412197</td>\n",
       "      <td>0.691862</td>\n",
       "      <td>0.253190</td>\n",
       "      <td>0.680369</td>\n",
       "      <td>0.126231</td>\n",
       "      <td>0.544243</td>\n",
       "    </tr>\n",
       "    <tr>\n",
       "      <th>2</th>\n",
       "      <td>0.475919</td>\n",
       "      <td>0.431620</td>\n",
       "      <td>0.160167</td>\n",
       "      <td>0.873217</td>\n",
       "      <td>0.384854</td>\n",
       "      <td>0.272430</td>\n",
       "    </tr>\n",
       "    <tr>\n",
       "      <th>3</th>\n",
       "      <td>0.585200</td>\n",
       "      <td>0.219030</td>\n",
       "      <td>0.691520</td>\n",
       "      <td>0.903629</td>\n",
       "      <td>0.001730</td>\n",
       "      <td>0.230211</td>\n",
       "    </tr>\n",
       "    <tr>\n",
       "      <th>4</th>\n",
       "      <td>0.135178</td>\n",
       "      <td>0.298058</td>\n",
       "      <td>0.572222</td>\n",
       "      <td>0.520748</td>\n",
       "      <td>0.825947</td>\n",
       "      <td>0.844736</td>\n",
       "    </tr>\n",
       "    <tr>\n",
       "      <th>5</th>\n",
       "      <td>0.311600</td>\n",
       "      <td>0.505057</td>\n",
       "      <td>0.476488</td>\n",
       "      <td>0.795138</td>\n",
       "      <td>0.439015</td>\n",
       "      <td>0.389122</td>\n",
       "    </tr>\n",
       "    <tr>\n",
       "      <th>6</th>\n",
       "      <td>0.481833</td>\n",
       "      <td>0.534781</td>\n",
       "      <td>0.667742</td>\n",
       "      <td>0.191213</td>\n",
       "      <td>0.677747</td>\n",
       "      <td>0.515994</td>\n",
       "    </tr>\n",
       "  </tbody>\n",
       "</table>\n",
       "</div>"
      ],
      "text/plain": [
       "   column_1  column_2  column_3  column_4  column_5  column_6\n",
       "1  0.412197  0.691862  0.253190  0.680369  0.126231  0.544243\n",
       "2  0.475919  0.431620  0.160167  0.873217  0.384854  0.272430\n",
       "3  0.585200  0.219030  0.691520  0.903629  0.001730  0.230211\n",
       "4  0.135178  0.298058  0.572222  0.520748  0.825947  0.844736\n",
       "5  0.311600  0.505057  0.476488  0.795138  0.439015  0.389122\n",
       "6  0.481833  0.534781  0.667742  0.191213  0.677747  0.515994"
      ]
     },
     "execution_count": 36,
     "metadata": {},
     "output_type": "execute_result"
    }
   ],
   "source": [
    "df1"
   ]
  },
  {
   "cell_type": "code",
   "execution_count": 44,
   "id": "226c8e05",
   "metadata": {},
   "outputs": [],
   "source": [
    "df1.loc[2]='column_2'"
   ]
  },
  {
   "cell_type": "code",
   "execution_count": 49,
   "id": "a781e540",
   "metadata": {},
   "outputs": [
    {
     "name": "stdout",
     "output_type": "stream",
     "text": [
      "unsupported operand type(s) for +: 'float' and 'str'\n"
     ]
    }
   ],
   "source": [
    "try:\n",
    "    df1['column_2'].mean()\n",
    "except Exception as e:\n",
    "    print(e)"
   ]
  },
  {
   "cell_type": "markdown",
   "id": "429b2f79",
   "metadata": {},
   "source": [
    "##### The datattypes are hetrogenous or different..thats the reason it caught the error"
   ]
  },
  {
   "cell_type": "markdown",
   "id": "351a820d",
   "metadata": {},
   "source": [
    "# Q6. What do you understand about the windows function in pandas and list the types of windows\n",
    "# functions?"
   ]
  },
  {
   "cell_type": "code",
   "execution_count": 54,
   "id": "0da27693",
   "metadata": {},
   "outputs": [],
   "source": [
    "test = pd.DataFrame({\n",
    "    'values': range(5)\n",
    "})"
   ]
  },
  {
   "cell_type": "code",
   "execution_count": 55,
   "id": "fd81cc95",
   "metadata": {},
   "outputs": [
    {
     "data": {
      "text/html": [
       "<div>\n",
       "<style scoped>\n",
       "    .dataframe tbody tr th:only-of-type {\n",
       "        vertical-align: middle;\n",
       "    }\n",
       "\n",
       "    .dataframe tbody tr th {\n",
       "        vertical-align: top;\n",
       "    }\n",
       "\n",
       "    .dataframe thead th {\n",
       "        text-align: right;\n",
       "    }\n",
       "</style>\n",
       "<table border=\"1\" class=\"dataframe\">\n",
       "  <thead>\n",
       "    <tr style=\"text-align: right;\">\n",
       "      <th></th>\n",
       "      <th>values</th>\n",
       "    </tr>\n",
       "  </thead>\n",
       "  <tbody>\n",
       "    <tr>\n",
       "      <th>0</th>\n",
       "      <td>0</td>\n",
       "    </tr>\n",
       "    <tr>\n",
       "      <th>1</th>\n",
       "      <td>1</td>\n",
       "    </tr>\n",
       "    <tr>\n",
       "      <th>2</th>\n",
       "      <td>2</td>\n",
       "    </tr>\n",
       "    <tr>\n",
       "      <th>3</th>\n",
       "      <td>3</td>\n",
       "    </tr>\n",
       "    <tr>\n",
       "      <th>4</th>\n",
       "      <td>4</td>\n",
       "    </tr>\n",
       "  </tbody>\n",
       "</table>\n",
       "</div>"
      ],
      "text/plain": [
       "   values\n",
       "0       0\n",
       "1       1\n",
       "2       2\n",
       "3       3\n",
       "4       4"
      ]
     },
     "execution_count": 55,
     "metadata": {},
     "output_type": "execute_result"
    }
   ],
   "source": [
    "test"
   ]
  },
  {
   "cell_type": "code",
   "execution_count": 72,
   "id": "303417c0",
   "metadata": {},
   "outputs": [
    {
     "data": {
      "text/html": [
       "<div>\n",
       "<style scoped>\n",
       "    .dataframe tbody tr th:only-of-type {\n",
       "        vertical-align: middle;\n",
       "    }\n",
       "\n",
       "    .dataframe tbody tr th {\n",
       "        vertical-align: top;\n",
       "    }\n",
       "\n",
       "    .dataframe thead th {\n",
       "        text-align: right;\n",
       "    }\n",
       "</style>\n",
       "<table border=\"1\" class=\"dataframe\">\n",
       "  <thead>\n",
       "    <tr style=\"text-align: right;\">\n",
       "      <th></th>\n",
       "      <th>values</th>\n",
       "      <th>CumulativeSum</th>\n",
       "      <th>RollingMean</th>\n",
       "    </tr>\n",
       "  </thead>\n",
       "  <tbody>\n",
       "    <tr>\n",
       "      <th>0</th>\n",
       "      <td>0</td>\n",
       "      <td>NaN</td>\n",
       "      <td>NaN</td>\n",
       "    </tr>\n",
       "    <tr>\n",
       "      <th>1</th>\n",
       "      <td>1</td>\n",
       "      <td>NaN</td>\n",
       "      <td>1.0</td>\n",
       "    </tr>\n",
       "    <tr>\n",
       "      <th>2</th>\n",
       "      <td>2</td>\n",
       "      <td>3.0</td>\n",
       "      <td>3.0</td>\n",
       "    </tr>\n",
       "    <tr>\n",
       "      <th>3</th>\n",
       "      <td>3</td>\n",
       "      <td>6.0</td>\n",
       "      <td>5.0</td>\n",
       "    </tr>\n",
       "    <tr>\n",
       "      <th>4</th>\n",
       "      <td>4</td>\n",
       "      <td>10.0</td>\n",
       "      <td>7.0</td>\n",
       "    </tr>\n",
       "  </tbody>\n",
       "</table>\n",
       "</div>"
      ],
      "text/plain": [
       "   values  CumulativeSum  RollingMean\n",
       "0       0            NaN          NaN\n",
       "1       1            NaN          1.0\n",
       "2       2            3.0          3.0\n",
       "3       3            6.0          5.0\n",
       "4       4           10.0          7.0"
      ]
     },
     "execution_count": 72,
     "metadata": {},
     "output_type": "execute_result"
    }
   ],
   "source": [
    "test['CumulativeSum'] = test['values'].expanding(3).sum()\n",
    "\n",
    "test"
   ]
  },
  {
   "cell_type": "code",
   "execution_count": 73,
   "id": "29f5b13a",
   "metadata": {},
   "outputs": [],
   "source": [
    "test['RollingMean'] = test['values'].rolling(window=2).sum()\n"
   ]
  },
  {
   "cell_type": "code",
   "execution_count": 74,
   "id": "8c35f023",
   "metadata": {},
   "outputs": [
    {
     "data": {
      "text/html": [
       "<div>\n",
       "<style scoped>\n",
       "    .dataframe tbody tr th:only-of-type {\n",
       "        vertical-align: middle;\n",
       "    }\n",
       "\n",
       "    .dataframe tbody tr th {\n",
       "        vertical-align: top;\n",
       "    }\n",
       "\n",
       "    .dataframe thead th {\n",
       "        text-align: right;\n",
       "    }\n",
       "</style>\n",
       "<table border=\"1\" class=\"dataframe\">\n",
       "  <thead>\n",
       "    <tr style=\"text-align: right;\">\n",
       "      <th></th>\n",
       "      <th>values</th>\n",
       "      <th>CumulativeSum</th>\n",
       "      <th>RollingMean</th>\n",
       "    </tr>\n",
       "  </thead>\n",
       "  <tbody>\n",
       "    <tr>\n",
       "      <th>0</th>\n",
       "      <td>0</td>\n",
       "      <td>NaN</td>\n",
       "      <td>NaN</td>\n",
       "    </tr>\n",
       "    <tr>\n",
       "      <th>1</th>\n",
       "      <td>1</td>\n",
       "      <td>NaN</td>\n",
       "      <td>1.0</td>\n",
       "    </tr>\n",
       "    <tr>\n",
       "      <th>2</th>\n",
       "      <td>2</td>\n",
       "      <td>3.0</td>\n",
       "      <td>3.0</td>\n",
       "    </tr>\n",
       "    <tr>\n",
       "      <th>3</th>\n",
       "      <td>3</td>\n",
       "      <td>6.0</td>\n",
       "      <td>5.0</td>\n",
       "    </tr>\n",
       "    <tr>\n",
       "      <th>4</th>\n",
       "      <td>4</td>\n",
       "      <td>10.0</td>\n",
       "      <td>7.0</td>\n",
       "    </tr>\n",
       "  </tbody>\n",
       "</table>\n",
       "</div>"
      ],
      "text/plain": [
       "   values  CumulativeSum  RollingMean\n",
       "0       0            NaN          NaN\n",
       "1       1            NaN          1.0\n",
       "2       2            3.0          3.0\n",
       "3       3            6.0          5.0\n",
       "4       4           10.0          7.0"
      ]
     },
     "execution_count": 74,
     "metadata": {},
     "output_type": "execute_result"
    }
   ],
   "source": [
    "test"
   ]
  },
  {
   "cell_type": "markdown",
   "id": "aa998b5d",
   "metadata": {},
   "source": [
    "#### These functions are particularly useful for time-series data and provide a way to perform calculations over a moving window of observations."
   ]
  },
  {
   "cell_type": "markdown",
   "id": "04b7e9e5",
   "metadata": {},
   "source": [
    "# Q7.Write a code to print only the current month and year at the time of answering this question.\n",
    "[Hint: Use pandas.datetime function]"
   ]
  },
  {
   "cell_type": "code",
   "execution_count": 82,
   "id": "77cbb2f9",
   "metadata": {},
   "outputs": [
    {
     "data": {
      "text/plain": [
       "datetime.datetime(2024, 1, 2, 15, 18, 30, 864371)"
      ]
     },
     "execution_count": 82,
     "metadata": {},
     "output_type": "execute_result"
    }
   ],
   "source": [
    "current_date_time = datetime.now()\n",
    "current_date_time\n"
   ]
  },
  {
   "cell_type": "code",
   "execution_count": 94,
   "id": "3437dccf",
   "metadata": {},
   "outputs": [
    {
     "name": "stdout",
     "output_type": "stream",
     "text": [
      "Current Year is 2024 and Current Month is January\n"
     ]
    }
   ],
   "source": [
    "print(f'Current Year is {current_date_time.year} and Current Month is {current_date_time.strftime(\"%B\")}')"
   ]
  },
  {
   "cell_type": "markdown",
   "id": "d1a5e11a",
   "metadata": {},
   "source": [
    "# Q8. Write a Python program that takes in two dates as input (in the format YYYY-MM-DD) and\n",
    "# calculates the difference between them in days, hours, and minutes using Pandas time delta. The\n",
    "# program should prompt the user to enter the dates and display the result."
   ]
  },
  {
   "cell_type": "code",
   "execution_count": 97,
   "id": "158228b4",
   "metadata": {},
   "outputs": [],
   "source": [
    "from datetime import datetime, timedelta"
   ]
  },
  {
   "cell_type": "code",
   "execution_count": 114,
   "id": "5aba5e2c",
   "metadata": {},
   "outputs": [
    {
     "name": "stdout",
     "output_type": "stream",
     "text": [
      "Enter the Date 1 in format YYYY-MM-DD: 2024-01-01\n",
      "Enter the Date 2 in format YYYY-MM-DD: 2024-12-31\n",
      "The date difference is 365 days 00:00:00\n"
     ]
    }
   ],
   "source": [
    "input1 = pd.to_datetime(input('Enter the Date 1 in format YYYY-MM-DD: '))\n",
    "input2=  pd.to_datetime(input('Enter the Date 2 in format YYYY-MM-DD: '))\n",
    "diff = input2 - input1\n",
    "print(f\"The date difference is {diff}\")"
   ]
  },
  {
   "cell_type": "markdown",
   "id": "e9ce8fb2",
   "metadata": {},
   "source": [
    "# Q9. Write a Python program that reads a CSV file containing categorical data and converts a specified\n",
    "# column to a categorical data type. The program should prompt the user to enter the file path, column\n",
    "# name, and category order, and then display the sorted data."
   ]
  },
  {
   "cell_type": "code",
   "execution_count": 123,
   "id": "9f1504fd",
   "metadata": {},
   "outputs": [
    {
     "name": "stdout",
     "output_type": "stream",
     "text": [
      "Enter the file path: df\n",
      "Enter the column name to convert to categorical: tip\n",
      "Enter the category order (comma-separated): total_bill, sex\n",
      "File not found. Please check the file path.\n"
     ]
    }
   ],
   "source": [
    "import pandas as pd\n",
    "\n",
    "def convert_to_categorical(file_path, column_name, category_order):\n",
    "    try:\n",
    "        # Read the CSV file\n",
    "        df = pd.read_csv(file_path)\n",
    "\n",
    "        # Convert the specified column to categorical\n",
    "        df[column_name] = pd.Categorical(df[column_name], categories=category_order, ordered=True)\n",
    "\n",
    "        # Display the sorted data\n",
    "        sorted_df = df.sort_values(by=[column_name])\n",
    "        print(sorted_df)\n",
    "\n",
    "    except FileNotFoundError:\n",
    "        print(\"File not found. Please check the file path.\")\n",
    "    except KeyError:\n",
    "        print(\"Column not found in the DataFrame. Please check the column name.\")\n",
    "    except Exception as e:\n",
    "        print(f\"An error occurred: {e}\")\n",
    "\n",
    "# Prompt the user for input\n",
    "file_path = input(\"Enter the file path: \")\n",
    "column_name = input(\"Enter the column name to convert to categorical: \")\n",
    "category_order_str = input(\"Enter the category order (comma-separated): \")\n",
    "\n",
    "# Convert the category order string to a list\n",
    "category_order = [category.strip() for category in category_order_str.split(',')]\n",
    "\n",
    "# Call the function\n",
    "convert_to_categorical(file_path, column_name, category_order)\n"
   ]
  },
  {
   "cell_type": "code",
   "execution_count": null,
   "id": "d0af3d0b",
   "metadata": {},
   "outputs": [],
   "source": []
  },
  {
   "cell_type": "markdown",
   "id": "5e238ea8",
   "metadata": {},
   "source": [
    "# Q10. Write a Python program that reads a CSV file containing sales data for different products and\n",
    "# visualizes the data using a stacked bar chart to show the sales of each product category over time. The\n",
    "# program should prompt the user to enter the file path and display the chart."
   ]
  },
  {
   "cell_type": "code",
   "execution_count": 153,
   "id": "50aa9dd2",
   "metadata": {},
   "outputs": [
    {
     "name": "stdout",
     "output_type": "stream",
     "text": [
      "Warning: Duplicate entries found. Summing up the duplicate entries.\n"
     ]
    },
    {
     "data": {
      "image/png": "[encoded data removed]",
      "text/plain": [
       "<Figure size 720x432 with 1 Axes>"
      ]
     },
     "metadata": {
      "needs_background": "light"
     },
     "output_type": "display_data"
    }
   ],
   "source": [
    "np.random.seed(42)\n",
    "\n",
    "dates = pd.date_range(start='2022-01-01', end='2022-01-10', freq='D')\n",
    "categories = ['Electronics', 'Clothing', 'Books']\n",
    "products = ['Product_A', 'Product_B', 'Product_C']\n",
    "\n",
    "data = []\n",
    "\n",
    "for date in dates:\n",
    "    for category in categories:\n",
    "        for product in products:\n",
    "            sales = np.random.randint(10, 100)\n",
    "            data.append([date, category, product, sales])\n",
    "\n",
    "df = pd.DataFrame(data, columns=['Date', 'Product_Category', 'Product', 'Sales'])\n",
    "\n",
    "# Check for and handle duplicate entries\n",
    "if df.duplicated(['Date', 'Product_Category']).any():\n",
    "    print(\"Warning: Duplicate entries found. Summing up the duplicate entries.\")\n",
    "    df = df.groupby(['Date', 'Product_Category'], as_index=False)['Sales'].sum()\n",
    "\n",
    "# Convert 'Date' column to datetime format\n",
    "df['Date'] = pd.to_datetime(df['Date'])\n",
    "\n",
    "# Pivot the DataFrame to prepare for the stacked bar chart\n",
    "pivot_df = df.pivot(index='Date', columns='Product_Category', values='Sales')\n",
    "\n",
    "# Plot the stacked bar chart\n",
    "pivot_df.plot(kind='bar', stacked=True, figsize=(10, 6))\n",
    "plt.title('Sales of Each Product Category Over Time')\n",
    "plt.xlabel('Date')\n",
    "plt.ylabel('Sales')\n",
    "plt.legend(title='Product Category')\n",
    "plt.show()\n"
   ]
  },
  {
   "cell_type": "markdown",
   "id": "9427d155",
   "metadata": {},
   "source": [
    "# Q11. You are given a CSV file containing student data that includes the student ID and their test score. Write\n",
    "# a Python program that reads the CSV file, calculates the mean, median, and mode of the test scores, and\n",
    "# displays the results in a table."
   ]
  },
  {
   "cell_type": "code",
   "execution_count": 162,
   "id": "35f5ef56",
   "metadata": {},
   "outputs": [
    {
     "name": "stdout",
     "output_type": "stream",
     "text": [
      "Enter the file path of the CSV file: s\n",
      "File not found. Please check the file path.\n"
     ]
    }
   ],
   "source": [
    "def calculate_statistics(file_path):\n",
    "    try:\n",
    "        # Read the CSV file\n",
    "        df = pd.read_csv(file_path)\n",
    "\n",
    "        # Extract the 'Test_Score' column\n",
    "        test_scores = df['Test_Score']\n",
    "\n",
    "        # Calculate mean, median, and mode\n",
    "        mean_score = test_scores.mean\n",
    "        median_score = test_scores.median\n",
    "        mode_score = test_scores.mode\n",
    "\n",
    "        # Display the results in a table\n",
    "        results_table = pd.DataFrame({\n",
    "            'Statistic': ['Mean', 'Median', 'Mode'],\n",
    "            'Value': [mean_score, median_score, mode_score]\n",
    "        })\n",
    "\n",
    "        print(\"Statistics for Test Scores:\")\n",
    "        print(results_table)\n",
    "\n",
    "    except FileNotFoundError:\n",
    "        print(\"File not found. Please check the file path.\")\n",
    "    except Exception as e:\n",
    "        print(f\"An error occurred: {e}\")\n",
    "\n",
    "# Prompt the user for input\n",
    "file_path = input(\"Enter the file path of the CSV file: \")\n",
    "\n",
    "# Call the function to calculate and display statistics\n",
    "calculate_statistics(file_path)\n"
   ]
  },
  {
   "cell_type": "code",
   "execution_count": null,
   "id": "e1a6a470",
   "metadata": {},
   "outputs": [],
   "source": []
  }
 ],
 "metadata": {
  "kernelspec": {
   "display_name": "Python 3 (ipykernel)",
   "language": "python",
   "name": "python3"
  },
  "language_info": {
   "codemirror_mode": {
    "name": "ipython",
    "version": 3
   },
   "file_extension": ".py",
   "mimetype": "text/x-python",
   "name": "python",
   "nbconvert_exporter": "python",
   "pygments_lexer": "ipython3",
   "version": "3.9.12"
  }
 },
 "nbformat": 4,
 "nbformat_minor": 5
}
